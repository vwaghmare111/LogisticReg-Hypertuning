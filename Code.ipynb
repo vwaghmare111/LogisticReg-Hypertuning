{
 "cells": [
  {
   "cell_type": "markdown",
   "metadata": {},
   "source": [
    "# Part-1: Binary Classification"
   ]
  },
  {
   "cell_type": "markdown",
   "metadata": {},
   "source": [
    "Importing Libraries"
   ]
  },
  {
   "cell_type": "code",
   "execution_count": 1,
   "metadata": {},
   "outputs": [],
   "source": [
    "import numpy as np\n",
    "import pandas as pd\n",
    "import matplotlib.pyplot as plt\n",
    "from sklearn.model_selection import train_test_split\n",
    "from sklearn.linear_model import LogisticRegression\n",
    "from sklearn.metrics import accuracy_score\n",
    "import seaborn as sns\n",
    "from sklearn.preprocessing import scale\n",
    "from sklearn.metrics import precision_score\n",
    "from sklearn.metrics import recall_score\n",
    "from sklearn.metrics import f1_score\n",
    "from sklearn.metrics import confusion_matrix\n",
    "from sklearn.metrics import classification_report\n",
    "\n",
    "# import warnings filter\n",
    "from warnings import simplefilter\n",
    "# ignore all future warnings\n",
    "simplefilter(action='ignore', category=FutureWarning)"
   ]
  },
  {
   "cell_type": "markdown",
   "metadata": {},
   "source": [
    "1.1 Data Munging"
   ]
  },
  {
   "cell_type": "markdown",
   "metadata": {},
   "source": [
    "1.1.1 Read the training and testing data. Print the number of features in the dataset."
   ]
  },
  {
   "cell_type": "code",
   "execution_count": 2,
   "metadata": {},
   "outputs": [
    {
     "data": {
      "text/html": [
       "<div>\n",
       "<style scoped>\n",
       "    .dataframe tbody tr th:only-of-type {\n",
       "        vertical-align: middle;\n",
       "    }\n",
       "\n",
       "    .dataframe tbody tr th {\n",
       "        vertical-align: top;\n",
       "    }\n",
       "\n",
       "    .dataframe thead th {\n",
       "        text-align: right;\n",
       "    }\n",
       "</style>\n",
       "<table border=\"1\" class=\"dataframe\">\n",
       "  <thead>\n",
       "    <tr style=\"text-align: right;\">\n",
       "      <th></th>\n",
       "      <th>Patient_ID</th>\n",
       "      <th>Diagnosis</th>\n",
       "      <th>f1</th>\n",
       "      <th>f2</th>\n",
       "      <th>f3</th>\n",
       "      <th>f4</th>\n",
       "      <th>f5</th>\n",
       "      <th>f6</th>\n",
       "      <th>f7</th>\n",
       "      <th>f8</th>\n",
       "      <th>...</th>\n",
       "      <th>f21</th>\n",
       "      <th>f22</th>\n",
       "      <th>f23</th>\n",
       "      <th>f24</th>\n",
       "      <th>f25</th>\n",
       "      <th>f26</th>\n",
       "      <th>f27</th>\n",
       "      <th>f28</th>\n",
       "      <th>f29</th>\n",
       "      <th>f30</th>\n",
       "    </tr>\n",
       "  </thead>\n",
       "  <tbody>\n",
       "    <tr>\n",
       "      <th>0</th>\n",
       "      <td>909410</td>\n",
       "      <td>B</td>\n",
       "      <td>14.02</td>\n",
       "      <td>15.66</td>\n",
       "      <td>89.59</td>\n",
       "      <td>606.5</td>\n",
       "      <td>0.07966</td>\n",
       "      <td>0.05581</td>\n",
       "      <td>0.02087</td>\n",
       "      <td>0.02652</td>\n",
       "      <td>...</td>\n",
       "      <td>14.91</td>\n",
       "      <td>19.31</td>\n",
       "      <td>96.53</td>\n",
       "      <td>688.9</td>\n",
       "      <td>0.10340</td>\n",
       "      <td>0.1017</td>\n",
       "      <td>0.06260</td>\n",
       "      <td>0.08216</td>\n",
       "      <td>0.2136</td>\n",
       "      <td>0.06710</td>\n",
       "    </tr>\n",
       "    <tr>\n",
       "      <th>1</th>\n",
       "      <td>84358402</td>\n",
       "      <td>M</td>\n",
       "      <td>20.29</td>\n",
       "      <td>14.34</td>\n",
       "      <td>135.10</td>\n",
       "      <td>1297.0</td>\n",
       "      <td>0.10030</td>\n",
       "      <td>0.13280</td>\n",
       "      <td>0.19800</td>\n",
       "      <td>0.10430</td>\n",
       "      <td>...</td>\n",
       "      <td>22.54</td>\n",
       "      <td>16.67</td>\n",
       "      <td>152.20</td>\n",
       "      <td>1575.0</td>\n",
       "      <td>0.13740</td>\n",
       "      <td>0.2050</td>\n",
       "      <td>0.40000</td>\n",
       "      <td>0.16250</td>\n",
       "      <td>0.2364</td>\n",
       "      <td>0.07678</td>\n",
       "    </tr>\n",
       "    <tr>\n",
       "      <th>2</th>\n",
       "      <td>8912284</td>\n",
       "      <td>B</td>\n",
       "      <td>12.89</td>\n",
       "      <td>15.70</td>\n",
       "      <td>84.08</td>\n",
       "      <td>516.6</td>\n",
       "      <td>0.07818</td>\n",
       "      <td>0.09580</td>\n",
       "      <td>0.11150</td>\n",
       "      <td>0.03390</td>\n",
       "      <td>...</td>\n",
       "      <td>13.90</td>\n",
       "      <td>19.69</td>\n",
       "      <td>92.12</td>\n",
       "      <td>595.6</td>\n",
       "      <td>0.09926</td>\n",
       "      <td>0.2317</td>\n",
       "      <td>0.33440</td>\n",
       "      <td>0.10170</td>\n",
       "      <td>0.1999</td>\n",
       "      <td>0.07127</td>\n",
       "    </tr>\n",
       "    <tr>\n",
       "      <th>3</th>\n",
       "      <td>90317302</td>\n",
       "      <td>B</td>\n",
       "      <td>10.26</td>\n",
       "      <td>12.22</td>\n",
       "      <td>65.75</td>\n",
       "      <td>321.6</td>\n",
       "      <td>0.09996</td>\n",
       "      <td>0.07542</td>\n",
       "      <td>0.01923</td>\n",
       "      <td>0.01968</td>\n",
       "      <td>...</td>\n",
       "      <td>11.38</td>\n",
       "      <td>15.65</td>\n",
       "      <td>73.23</td>\n",
       "      <td>394.5</td>\n",
       "      <td>0.13430</td>\n",
       "      <td>0.1650</td>\n",
       "      <td>0.08615</td>\n",
       "      <td>0.06696</td>\n",
       "      <td>0.2937</td>\n",
       "      <td>0.07722</td>\n",
       "    </tr>\n",
       "    <tr>\n",
       "      <th>4</th>\n",
       "      <td>914102</td>\n",
       "      <td>B</td>\n",
       "      <td>13.16</td>\n",
       "      <td>20.54</td>\n",
       "      <td>84.06</td>\n",
       "      <td>538.7</td>\n",
       "      <td>0.07335</td>\n",
       "      <td>0.05275</td>\n",
       "      <td>0.01800</td>\n",
       "      <td>0.01256</td>\n",
       "      <td>...</td>\n",
       "      <td>14.50</td>\n",
       "      <td>28.46</td>\n",
       "      <td>95.29</td>\n",
       "      <td>648.3</td>\n",
       "      <td>0.11180</td>\n",
       "      <td>0.1646</td>\n",
       "      <td>0.07698</td>\n",
       "      <td>0.04195</td>\n",
       "      <td>0.2687</td>\n",
       "      <td>0.07429</td>\n",
       "    </tr>\n",
       "  </tbody>\n",
       "</table>\n",
       "<p>5 rows × 32 columns</p>\n",
       "</div>"
      ],
      "text/plain": [
       "   Patient_ID Diagnosis     f1     f2      f3      f4       f5       f6  \\\n",
       "0      909410         B  14.02  15.66   89.59   606.5  0.07966  0.05581   \n",
       "1    84358402         M  20.29  14.34  135.10  1297.0  0.10030  0.13280   \n",
       "2     8912284         B  12.89  15.70   84.08   516.6  0.07818  0.09580   \n",
       "3    90317302         B  10.26  12.22   65.75   321.6  0.09996  0.07542   \n",
       "4      914102         B  13.16  20.54   84.06   538.7  0.07335  0.05275   \n",
       "\n",
       "        f7       f8  ...    f21    f22     f23     f24      f25     f26  \\\n",
       "0  0.02087  0.02652  ...  14.91  19.31   96.53   688.9  0.10340  0.1017   \n",
       "1  0.19800  0.10430  ...  22.54  16.67  152.20  1575.0  0.13740  0.2050   \n",
       "2  0.11150  0.03390  ...  13.90  19.69   92.12   595.6  0.09926  0.2317   \n",
       "3  0.01923  0.01968  ...  11.38  15.65   73.23   394.5  0.13430  0.1650   \n",
       "4  0.01800  0.01256  ...  14.50  28.46   95.29   648.3  0.11180  0.1646   \n",
       "\n",
       "       f27      f28     f29      f30  \n",
       "0  0.06260  0.08216  0.2136  0.06710  \n",
       "1  0.40000  0.16250  0.2364  0.07678  \n",
       "2  0.33440  0.10170  0.1999  0.07127  \n",
       "3  0.08615  0.06696  0.2937  0.07722  \n",
       "4  0.07698  0.04195  0.2687  0.07429  \n",
       "\n",
       "[5 rows x 32 columns]"
      ]
     },
     "execution_count": 2,
     "metadata": {},
     "output_type": "execute_result"
    }
   ],
   "source": [
    "#Reading training data\n",
    "train_data = pd.read_csv('train_wbcd.csv')\n",
    "train_data.head()"
   ]
  },
  {
   "cell_type": "code",
   "execution_count": 3,
   "metadata": {},
   "outputs": [
    {
     "data": {
      "text/html": [
       "<div>\n",
       "<style scoped>\n",
       "    .dataframe tbody tr th:only-of-type {\n",
       "        vertical-align: middle;\n",
       "    }\n",
       "\n",
       "    .dataframe tbody tr th {\n",
       "        vertical-align: top;\n",
       "    }\n",
       "\n",
       "    .dataframe thead th {\n",
       "        text-align: right;\n",
       "    }\n",
       "</style>\n",
       "<table border=\"1\" class=\"dataframe\">\n",
       "  <thead>\n",
       "    <tr style=\"text-align: right;\">\n",
       "      <th></th>\n",
       "      <th>Patient_ID</th>\n",
       "      <th>Diagnosis</th>\n",
       "      <th>f1</th>\n",
       "      <th>f2</th>\n",
       "      <th>f3</th>\n",
       "      <th>f4</th>\n",
       "      <th>f5</th>\n",
       "      <th>f6</th>\n",
       "      <th>f7</th>\n",
       "      <th>f8</th>\n",
       "      <th>...</th>\n",
       "      <th>f21</th>\n",
       "      <th>f22</th>\n",
       "      <th>f23</th>\n",
       "      <th>f24</th>\n",
       "      <th>f25</th>\n",
       "      <th>f26</th>\n",
       "      <th>f27</th>\n",
       "      <th>f28</th>\n",
       "      <th>f29</th>\n",
       "      <th>f30</th>\n",
       "    </tr>\n",
       "  </thead>\n",
       "  <tbody>\n",
       "    <tr>\n",
       "      <th>0</th>\n",
       "      <td>894047</td>\n",
       "      <td>B</td>\n",
       "      <td>8.597</td>\n",
       "      <td>18.60</td>\n",
       "      <td>54.09</td>\n",
       "      <td>221.2</td>\n",
       "      <td>0.10740</td>\n",
       "      <td>0.05847</td>\n",
       "      <td>0.00000</td>\n",
       "      <td>0.00000</td>\n",
       "      <td>...</td>\n",
       "      <td>8.952</td>\n",
       "      <td>22.44</td>\n",
       "      <td>56.65</td>\n",
       "      <td>240.1</td>\n",
       "      <td>0.1347</td>\n",
       "      <td>0.07767</td>\n",
       "      <td>0.00000</td>\n",
       "      <td>0.00000</td>\n",
       "      <td>0.3142</td>\n",
       "      <td>0.08116</td>\n",
       "    </tr>\n",
       "    <tr>\n",
       "      <th>1</th>\n",
       "      <td>892189</td>\n",
       "      <td>M</td>\n",
       "      <td>11.760</td>\n",
       "      <td>18.14</td>\n",
       "      <td>75.00</td>\n",
       "      <td>431.1</td>\n",
       "      <td>0.09968</td>\n",
       "      <td>0.05914</td>\n",
       "      <td>0.02685</td>\n",
       "      <td>0.03515</td>\n",
       "      <td>...</td>\n",
       "      <td>13.360</td>\n",
       "      <td>23.39</td>\n",
       "      <td>85.10</td>\n",
       "      <td>553.6</td>\n",
       "      <td>0.1137</td>\n",
       "      <td>0.07974</td>\n",
       "      <td>0.06120</td>\n",
       "      <td>0.07160</td>\n",
       "      <td>0.1978</td>\n",
       "      <td>0.06915</td>\n",
       "    </tr>\n",
       "    <tr>\n",
       "      <th>2</th>\n",
       "      <td>8810528</td>\n",
       "      <td>B</td>\n",
       "      <td>11.840</td>\n",
       "      <td>18.94</td>\n",
       "      <td>75.51</td>\n",
       "      <td>428.0</td>\n",
       "      <td>0.08871</td>\n",
       "      <td>0.06900</td>\n",
       "      <td>0.02669</td>\n",
       "      <td>0.01393</td>\n",
       "      <td>...</td>\n",
       "      <td>13.300</td>\n",
       "      <td>24.99</td>\n",
       "      <td>85.22</td>\n",
       "      <td>546.3</td>\n",
       "      <td>0.1280</td>\n",
       "      <td>0.18800</td>\n",
       "      <td>0.14710</td>\n",
       "      <td>0.06913</td>\n",
       "      <td>0.2535</td>\n",
       "      <td>0.07993</td>\n",
       "    </tr>\n",
       "    <tr>\n",
       "      <th>3</th>\n",
       "      <td>905978</td>\n",
       "      <td>B</td>\n",
       "      <td>9.405</td>\n",
       "      <td>21.70</td>\n",
       "      <td>59.60</td>\n",
       "      <td>271.2</td>\n",
       "      <td>0.10440</td>\n",
       "      <td>0.06159</td>\n",
       "      <td>0.02047</td>\n",
       "      <td>0.01257</td>\n",
       "      <td>...</td>\n",
       "      <td>10.850</td>\n",
       "      <td>31.24</td>\n",
       "      <td>68.73</td>\n",
       "      <td>359.4</td>\n",
       "      <td>0.1526</td>\n",
       "      <td>0.11930</td>\n",
       "      <td>0.06141</td>\n",
       "      <td>0.03770</td>\n",
       "      <td>0.2872</td>\n",
       "      <td>0.08304</td>\n",
       "    </tr>\n",
       "    <tr>\n",
       "      <th>4</th>\n",
       "      <td>871001502</td>\n",
       "      <td>B</td>\n",
       "      <td>8.219</td>\n",
       "      <td>20.70</td>\n",
       "      <td>53.27</td>\n",
       "      <td>203.9</td>\n",
       "      <td>0.09405</td>\n",
       "      <td>0.13050</td>\n",
       "      <td>0.13210</td>\n",
       "      <td>0.02168</td>\n",
       "      <td>...</td>\n",
       "      <td>9.092</td>\n",
       "      <td>29.72</td>\n",
       "      <td>58.08</td>\n",
       "      <td>249.8</td>\n",
       "      <td>0.1630</td>\n",
       "      <td>0.43100</td>\n",
       "      <td>0.53810</td>\n",
       "      <td>0.07879</td>\n",
       "      <td>0.3322</td>\n",
       "      <td>0.14860</td>\n",
       "    </tr>\n",
       "  </tbody>\n",
       "</table>\n",
       "<p>5 rows × 32 columns</p>\n",
       "</div>"
      ],
      "text/plain": [
       "   Patient_ID Diagnosis      f1     f2     f3     f4       f5       f6  \\\n",
       "0      894047         B   8.597  18.60  54.09  221.2  0.10740  0.05847   \n",
       "1      892189         M  11.760  18.14  75.00  431.1  0.09968  0.05914   \n",
       "2     8810528         B  11.840  18.94  75.51  428.0  0.08871  0.06900   \n",
       "3      905978         B   9.405  21.70  59.60  271.2  0.10440  0.06159   \n",
       "4   871001502         B   8.219  20.70  53.27  203.9  0.09405  0.13050   \n",
       "\n",
       "        f7       f8  ...     f21    f22    f23    f24     f25      f26  \\\n",
       "0  0.00000  0.00000  ...   8.952  22.44  56.65  240.1  0.1347  0.07767   \n",
       "1  0.02685  0.03515  ...  13.360  23.39  85.10  553.6  0.1137  0.07974   \n",
       "2  0.02669  0.01393  ...  13.300  24.99  85.22  546.3  0.1280  0.18800   \n",
       "3  0.02047  0.01257  ...  10.850  31.24  68.73  359.4  0.1526  0.11930   \n",
       "4  0.13210  0.02168  ...   9.092  29.72  58.08  249.8  0.1630  0.43100   \n",
       "\n",
       "       f27      f28     f29      f30  \n",
       "0  0.00000  0.00000  0.3142  0.08116  \n",
       "1  0.06120  0.07160  0.1978  0.06915  \n",
       "2  0.14710  0.06913  0.2535  0.07993  \n",
       "3  0.06141  0.03770  0.2872  0.08304  \n",
       "4  0.53810  0.07879  0.3322  0.14860  \n",
       "\n",
       "[5 rows x 32 columns]"
      ]
     },
     "execution_count": 3,
     "metadata": {},
     "output_type": "execute_result"
    }
   ],
   "source": [
    "#Reading test data\n",
    "test_data = pd.read_csv('test_wbcd.csv')\n",
    "test_data.head()"
   ]
  },
  {
   "cell_type": "code",
   "execution_count": 4,
   "metadata": {
    "scrolled": true
   },
   "outputs": [
    {
     "name": "stdout",
     "output_type": "stream",
     "text": [
      "Number of features in training dataset excluding Patient ID and Diagnosis =  30\n",
      "List of features:\n",
      " ['Patient_ID', 'Diagnosis', 'f1', 'f2', 'f3', 'f4', 'f5', 'f6', 'f7', 'f8', 'f9', 'f10', 'f11', 'f12', 'f13', 'f14', 'f15', 'f16', 'f17', 'f18', 'f19', 'f20', 'f21', 'f22', 'f23', 'f24', 'f25', 'f26', 'f27', 'f28', 'f29', 'f30']\n",
      "\n",
      "Number of features in test dataset excluding Patient ID and Diagnosis=  30\n",
      "List of features:\n",
      " ['Patient_ID', 'Diagnosis', 'f1', 'f2', 'f3', 'f4', 'f5', 'f6', 'f7', 'f8', 'f9', 'f10', 'f11', 'f12', 'f13', 'f14', 'f15', 'f16', 'f17', 'f18', 'f19', 'f20', 'f21', 'f22', 'f23', 'f24', 'f25', 'f26', 'f27', 'f28', 'f29', 'f30']\n"
     ]
    }
   ],
   "source": [
    "#Printing the number of features in training and test dataset\n",
    "print(\"Number of features in training dataset excluding Patient ID and Diagnosis = \",len(list(train_data))-2)\n",
    "print(\"List of features:\\n\",list(train_data))\n",
    "\n",
    "print(\"\\nNumber of features in test dataset excluding Patient ID and Diagnosis= \",len(list(test_data))-2)\n",
    "print(\"List of features:\\n\",list(test_data))"
   ]
  },
  {
   "cell_type": "markdown",
   "metadata": {},
   "source": [
    "1.1.2 Printing frequency of each levels in factor variable Diagnosis (Data Label)"
   ]
  },
  {
   "cell_type": "code",
   "execution_count": 5,
   "metadata": {},
   "outputs": [
    {
     "name": "stdout",
     "output_type": "stream",
     "text": [
      "Diagnosis Class Distribution in training data: \n",
      " B = 58 \n",
      " M = 42\n",
      "Diagnosis Class Distribution in test data: \n",
      " B = 14 \n",
      " M = 6\n",
      "Count of class B is greater than class M in training and test dataset. Thus, class distribution is unbalanced.\n"
     ]
    }
   ],
   "source": [
    "# Total Number of 0's(or \"B's\") and 1's(or \"M's\") in training and test dataset\n",
    "trDataClassDist = train_data['Diagnosis'].value_counts()\n",
    "print('Diagnosis Class Distribution in training data: \\n', \"B =\", trDataClassDist['B'], \"\\n M =\", trDataClassDist['M'])\n",
    "\n",
    "tsDataClassDist = test_data['Diagnosis'].value_counts()\n",
    "print('Diagnosis Class Distribution in test data: \\n', \"B =\", tsDataClassDist['B'], \"\\n M =\", tsDataClassDist['M'])\n",
    "\n",
    "print('Count of class B is greater than class M in training and test dataset. Thus, class distribution is unbalanced.')"
   ]
  },
  {
   "cell_type": "markdown",
   "metadata": {},
   "source": [
    "1.1.3 Printing the number of features with missing entries"
   ]
  },
  {
   "cell_type": "code",
   "execution_count": 6,
   "metadata": {},
   "outputs": [
    {
     "name": "stdout",
     "output_type": "stream",
     "text": [
      "Number of features with zero in cells for training data = 6\n",
      "Features with zero in cells for training data = ['f7', 'f8', 'f17', 'f18', 'f27', 'f28']\n",
      "\n",
      "Number of features with empty cells for training data = 1\n",
      "Features with empty cells for training data = ['f21']\n"
     ]
    }
   ],
   "source": [
    "#Missing entries i.e. value is zero for training data\n",
    "missingValues = 0\n",
    "for column in train_data:\n",
    "    trZeroValues = (train_data[column] == 0).astype(int).sum(axis=0)\n",
    "    if trZeroValues > 0:\n",
    "        missingValues += 1\n",
    "print('Number of features with zero in cells for training data =',missingValues)\n",
    "print('Features with zero in cells for training data =',train_data.columns[(train_data ==0).astype(int).any()].tolist())\n",
    "\n",
    "#Blank values for training data\n",
    "blankValues = 0\n",
    "for feature in list(train_data):\n",
    "    trBlankEntries = train_data[feature].isnull().sum()\n",
    "    if trBlankEntries > 0:\n",
    "        blankValues += 1\n",
    "print('\\nNumber of features with empty cells for training data =',blankValues)\n",
    "print('Features with empty cells for training data =',train_data.columns[train_data.isna().any()].tolist())\n"
   ]
  },
  {
   "cell_type": "code",
   "execution_count": 7,
   "metadata": {
    "scrolled": true
   },
   "outputs": [
    {
     "name": "stdout",
     "output_type": "stream",
     "text": [
      "Number of features with zero in cells for test data = 6\n",
      "Features with zero in cells for test data = ['f7', 'f8', 'f17', 'f18', 'f27', 'f28']\n",
      "\n",
      "Number of features with empty cells for test data = 1\n",
      "Features with empty cells for test data = ['f21']\n"
     ]
    }
   ],
   "source": [
    "#Missing entries i.e. value is zero for test data\n",
    "missingValues = 0\n",
    "for column in test_data:\n",
    "    trZeroValues = (test_data[column] == 0).astype(int).sum(axis=0)\n",
    "    if trZeroValues > 0:\n",
    "        missingValues += 1\n",
    "print('Number of features with zero in cells for test data =',missingValues)\n",
    "print('Features with zero in cells for test data =',test_data.columns[(test_data ==0).astype(int).any()].tolist())\n",
    "\n",
    "#Blank values for test data\n",
    "blankValues = 0\n",
    "for feature in list(test_data):\n",
    "    trBlankEntries = test_data[feature].isnull().sum()\n",
    "    if trBlankEntries > 0:\n",
    "        blankValues += 1\n",
    "print('\\nNumber of features with empty cells for test data =',blankValues)\n",
    "print('Features with empty cells for test data =',test_data.columns[test_data.isna().any()].tolist())"
   ]
  },
  {
   "cell_type": "markdown",
   "metadata": {},
   "source": [
    "1.1.4 Filling the missing values (zeros and blank values)"
   ]
  },
  {
   "cell_type": "code",
   "execution_count": 8,
   "metadata": {},
   "outputs": [
    {
     "data": {
      "image/png": "[encoded data removed]",
      "text/plain": [
       "<Figure size 432x288 with 1 Axes>"
      ]
     },
     "metadata": {
      "needs_background": "light"
     },
     "output_type": "display_data"
    },
    {
     "name": "stdout",
     "output_type": "stream",
     "text": [
      "Except f28 all other variables having missing values has outliers in training data\n"
     ]
    },
    {
     "data": {
      "image/png": "[encoded data removed]",
      "text/plain": [
       "<Figure size 432x288 with 1 Axes>"
      ]
     },
     "metadata": {
      "needs_background": "light"
     },
     "output_type": "display_data"
    }
   ],
   "source": [
    "#Boxplot for features 'f7', 'f8', 'f17', 'f18', 'f21', 'f27', 'f28'\n",
    "df = pd.DataFrame(data = train_data, columns = ['f7', 'f8', 'f17', 'f18', 'f27', 'f28'])\n",
    "sns.boxplot(x=\"variable\", y=\"value\", data=pd.melt(df))\n",
    "plt.show()\n",
    "\n",
    "sns.boxplot(train_data['f21'])\n",
    "\n",
    "print(\"Except f28 all other variables having missing values has outliers in training data\")\n"
   ]
  },
  {
   "cell_type": "code",
   "execution_count": 9,
   "metadata": {},
   "outputs": [
    {
     "name": "stdout",
     "output_type": "stream",
     "text": [
      "f7,f8,f17,f18,f21,f27,f28 has postive skewness i.e. mean > median. Thus missing values are replaced with median.\n"
     ]
    },
    {
     "data": {
      "text/plain": [
       "Patient_ID    2.486067\n",
       "f1            0.862007\n",
       "f2            0.520220\n",
       "f3            0.904635\n",
       "f4            1.343160\n",
       "f5            0.373314\n",
       "f6            1.288537\n",
       "f7            1.478021\n",
       "f8            1.175055\n",
       "f9            0.404658\n",
       "f10           0.977140\n",
       "f11           1.680282\n",
       "f12           2.214221\n",
       "f13           2.126517\n",
       "f14           1.848503\n",
       "f15           1.159193\n",
       "f16           1.604270\n",
       "f17           1.749402\n",
       "f18           0.589357\n",
       "f19           1.555733\n",
       "f20           1.618950\n",
       "f21           0.901131\n",
       "f22           0.295764\n",
       "f23           0.962176\n",
       "f24           1.403095\n",
       "f25          -0.072388\n",
       "f26           0.941729\n",
       "f27           0.647272\n",
       "f28           0.432164\n",
       "f29           0.709373\n",
       "f30           0.682661\n",
       "dtype: float64"
      ]
     },
     "execution_count": 9,
     "metadata": {},
     "output_type": "execute_result"
    }
   ],
   "source": [
    "print(\"f7,f8,f17,f18,f21,f27,f28 has postive skewness i.e. mean > median. Thus missing values are replaced with median.\")\n",
    "train_data.skew(axis = 0)"
   ]
  },
  {
   "cell_type": "code",
   "execution_count": 10,
   "metadata": {},
   "outputs": [
    {
     "name": "stdout",
     "output_type": "stream",
     "text": [
      "Number of features with empty cells in training data = 0\n",
      "\n",
      "Features with empty cells in training data = []\n"
     ]
    }
   ],
   "source": [
    "#Deleting missing values (zeros) to create blank cells (NaN)\n",
    "train_data1 = train_data.replace(0, np.nan)\n",
    "#Replacing blank values (NaN) with median of respective column from original data\n",
    "train_data1 = train_data1.fillna(train_data.median())\n",
    "#Checking missing values after replacing it with median of respective column\n",
    "blankValues = 0\n",
    "for feature in list(train_data1):\n",
    "    trBlankEntries = train_data1[feature].isnull().sum()\n",
    "    if trBlankEntries > 0:\n",
    "        blankValues += 1\n",
    "print('Number of features with empty cells in training data =',blankValues)\n",
    "print('\\nFeatures with empty cells in training data =',train_data1.columns[train_data1.isna().any()].tolist())"
   ]
  },
  {
   "cell_type": "code",
   "execution_count": 11,
   "metadata": {},
   "outputs": [
    {
     "data": {
      "image/png": "[encoded data removed]",
      "text/plain": [
       "<Figure size 432x288 with 1 Axes>"
      ]
     },
     "metadata": {
      "needs_background": "light"
     },
     "output_type": "display_data"
    },
    {
     "name": "stdout",
     "output_type": "stream",
     "text": [
      "Except f27 all other variables having missing values has outliers in test data\n"
     ]
    },
    {
     "data": {
      "image/png": "[encoded data removed]",
      "text/plain": [
       "<Figure size 432x288 with 1 Axes>"
      ]
     },
     "metadata": {
      "needs_background": "light"
     },
     "output_type": "display_data"
    }
   ],
   "source": [
    "#Boxplot for features 'f7', 'f8', 'f17', 'f18', 'f21', 'f27', 'f28'\n",
    "df = pd.DataFrame(data = test_data, columns = ['f7', 'f8', 'f17', 'f18', 'f27', 'f28'])\n",
    "sns.boxplot(x=\"variable\", y=\"value\", data=pd.melt(df))\n",
    "plt.show()\n",
    "\n",
    "sns.boxplot(test_data['f21'])\n",
    "\n",
    "print(\"Except f27 all other variables having missing values has outliers in test data\")\n"
   ]
  },
  {
   "cell_type": "code",
   "execution_count": 12,
   "metadata": {},
   "outputs": [
    {
     "name": "stdout",
     "output_type": "stream",
     "text": [
      "f7,f8,f17,f18,f21,f27,f28 has postive skewness i.e. mean > median. Thus missing values are replaced with median.\n"
     ]
    },
    {
     "data": {
      "text/plain": [
       "Patient_ID    2.825500\n",
       "f1            1.882116\n",
       "f2            0.356843\n",
       "f3            2.019051\n",
       "f4            3.048938\n",
       "f5            0.368085\n",
       "f6            0.617311\n",
       "f7            2.002258\n",
       "f8            2.090563\n",
       "f9            0.417575\n",
       "f10           1.146908\n",
       "f11           3.863069\n",
       "f12           1.013736\n",
       "f13           3.961494\n",
       "f14           4.340611\n",
       "f15           1.499950\n",
       "f16           2.003514\n",
       "f17           1.204958\n",
       "f18           1.171004\n",
       "f19           2.571861\n",
       "f20           2.715592\n",
       "f21           2.075404\n",
       "f22           0.089751\n",
       "f23           2.187964\n",
       "f24           3.300956\n",
       "f25           1.292372\n",
       "f26           0.704293\n",
       "f27           0.847284\n",
       "f28           1.354438\n",
       "f29           1.311837\n",
       "f30           1.553813\n",
       "dtype: float64"
      ]
     },
     "execution_count": 12,
     "metadata": {},
     "output_type": "execute_result"
    }
   ],
   "source": [
    "print(\"f7,f8,f17,f18,f21,f27,f28 has postive skewness i.e. mean > median. Thus missing values are replaced with median.\")\n",
    "test_data.skew(axis = 0)"
   ]
  },
  {
   "cell_type": "code",
   "execution_count": 13,
   "metadata": {},
   "outputs": [
    {
     "name": "stdout",
     "output_type": "stream",
     "text": [
      "Number of features with empty cells in test data = 0\n",
      "\n",
      "Features with empty cells in test data = []\n"
     ]
    }
   ],
   "source": [
    "#Deleting missing values (zeros) to create blank cells (NaN)\n",
    "test_data1 = test_data.replace(0, np.nan)\n",
    "#Replacing blank values (NaN) with median of respective coluns from original data\n",
    "test_data1 = test_data1.fillna(test_data.median())\n",
    "#Checking missing values after replacing it with median of respective column\n",
    "blankValues = 0\n",
    "for feature in list(test_data1):\n",
    "    trBlankEntries = test_data1[feature].isnull().sum()\n",
    "    if trBlankEntries > 0:\n",
    "        blankValues += 1\n",
    "print('Number of features with empty cells in test data =',blankValues)\n",
    "print('\\nFeatures with empty cells in test data =',test_data1.columns[test_data1.isna().any()].tolist())"
   ]
  },
  {
   "cell_type": "markdown",
   "metadata": {},
   "source": [
    "1.1.5 Normalizing the training and test data"
   ]
  },
  {
   "cell_type": "code",
   "execution_count": 14,
   "metadata": {},
   "outputs": [],
   "source": [
    "#Converting data labels of Diagnosis to numbers where B = 0 and M = 1\n",
    "train_data1 = train_data1.replace({'Diagnosis': {\"B\": 0, \"M\": 1}})\n",
    "test_data1 = test_data1.replace({'Diagnosis': {\"B\": 0, \"M\": 1}})\n",
    "\n",
    "#Dividing data labels and and feature variables for trainig and test data\n",
    "train_features = train_data1.iloc[:,2:32]\n",
    "train_label = train_data1.iloc[:,1]\n",
    "test_features = test_data1.iloc[:,2:32]\n",
    "test_label = test_data1.iloc[:,1]\n",
    "\n",
    "#Normalizing training and test data\n",
    "trainNorm = pd.DataFrame(scale(train_features),columns = list(train_features))\n",
    "testNorm = pd.DataFrame(scale(test_features),columns = list(test_features))"
   ]
  },
  {
   "cell_type": "markdown",
   "metadata": {},
   "source": [
    "1.2 Logistic Regression"
   ]
  },
  {
   "cell_type": "code",
   "execution_count": 15,
   "metadata": {},
   "outputs": [
    {
     "name": "stdout",
     "output_type": "stream",
     "text": [
      "Model Accuracy is: 0.9\n",
      "Precision score is:0.8333333333333334\n",
      "Recall score is:0.8333333333333334\n",
      "f1 score is:0.8333333333333334\n",
      "Confusion Matrix is:[[13  1]\n",
      " [ 1  5]]\n",
      "Model Coeff: [0.         0.         0.14262981 0.02830353 1.52680979 0.\n",
      " 0.         0.33460128 0.04050406 0.         0.         0.\n",
      " 0.         0.         0.         0.         0.         0.\n",
      " 0.         0.         0.         3.8073722  3.74711854 4.67913467\n",
      " 0.89818054 2.34886989 0.         0.         0.         0.19287377\n",
      " 1.0486976 ]\n"
     ]
    }
   ],
   "source": [
    "lambda_val = 0.1\n",
    "#Initialize the Logitic regression model with l1 penalty\n",
    "L1_model = LogisticRegression(C=1/lambda_val, penalty='l1',random_state = 1)\n",
    "\n",
    "#Fitting and predicting the model\n",
    "L1_model.fit(trainNorm, train_label)\n",
    "L1_Y_Predict = L1_model.predict(testNorm)\n",
    "\n",
    "# Accuracy measures\n",
    "L1_model_acc = accuracy_score(L1_Y_Predict, test_label)\n",
    "L1_precision= precision_score(L1_Y_Predict, test_label)\n",
    "L1_recall = recall_score(L1_Y_Predict, test_label)\n",
    "L1_f1_score = f1_score(L1_Y_Predict, test_label)\n",
    "L1_con_mat = confusion_matrix(L1_Y_Predict, test_label)\n",
    "L1_cl_report = classification_report(L1_Y_Predict, test_label)\n",
    "\n",
    "print(\"Model Accuracy is: {}\".format(L1_model_acc))\n",
    "print(\"Precision score is:{}\".format(L1_precision))\n",
    "print(\"Recall score is:{}\".format(L1_recall))\n",
    "print(\"f1 score is:{}\".format(L1_f1_score))\n",
    "print(\"Confusion Matrix is:{}\".format(L1_con_mat))\n",
    "print(\"Model Coeff: {}\".format(np.append(L1_model.intercept_, L1_model.coef_)))"
   ]
  },
  {
   "cell_type": "code",
   "execution_count": 16,
   "metadata": {},
   "outputs": [
    {
     "name": "stdout",
     "output_type": "stream",
     "text": [
      "Model Accuracy is: 0.9\n",
      "Precision score is:0.8333333333333334\n",
      "Recall score is:0.8333333333333334\n",
      "f1 score is:0.8333333333333334\n",
      "Confusion Matrix is:[[13  1]\n",
      " [ 1  5]]\n",
      "Model Coeff: [-0.04675486  1.0450016   1.25767251  1.0448138   1.02983774 -0.17400746\n",
      "  0.01180993  0.78447463  0.8880487   0.21862921 -1.05654898  0.5215903\n",
      " -0.11979931  0.57387347  0.65654834  0.52577959 -0.36190099 -0.37326692\n",
      " -0.24761879 -0.93846975  0.16709207  1.1488869   1.95597449  1.15817198\n",
      "  1.08238238  1.28950083  0.43137891  0.49243932  0.65527148  1.03554896\n",
      "  1.05115913]\n"
     ]
    }
   ],
   "source": [
    "lambda_val = 0.1\n",
    "#Initialize the Logitic regression model with l2 penalty\n",
    "L2_model = LogisticRegression(C=1/lambda_val, penalty='l2',random_state = 2)\n",
    "\n",
    "#Fitting and predicting the model\n",
    "L2_model.fit(trainNorm, train_label)\n",
    "L2_Y_Predict = L2_model.predict(testNorm)\n",
    "\n",
    "#Accuracy measures\n",
    "L2_model_acc = accuracy_score(L2_Y_Predict, test_label)\n",
    "L2_precision= precision_score(L2_Y_Predict, test_label)\n",
    "L2_recall = recall_score(L2_Y_Predict, test_label)\n",
    "L2_f1_score = f1_score(L2_Y_Predict, test_label)\n",
    "L2_con_mat = confusion_matrix(L2_Y_Predict, test_label)\n",
    "L2_cl_report = classification_report(L2_Y_Predict, test_label)\n",
    "\n",
    "print(\"Model Accuracy is: {}\".format(L2_model_acc))\n",
    "print(\"Precision score is:{}\".format(L2_precision))\n",
    "print(\"Recall score is:{}\".format(L2_recall))\n",
    "print(\"f1 score is:{}\".format(L2_f1_score))\n",
    "print(\"Confusion Matrix is:{}\".format(L2_con_mat))\n",
    "print(\"Model Coeff: {}\".format(np.append(L2_model.intercept_, L2_model.coef_)))"
   ]
  },
  {
   "cell_type": "markdown",
   "metadata": {},
   "source": [
    "1.3 Choosing the best hyper-parameter"
   ]
  },
  {
   "cell_type": "markdown",
   "metadata": {},
   "source": [
    "A - For L1 model"
   ]
  },
  {
   "cell_type": "code",
   "execution_count": 17,
   "metadata": {},
   "outputs": [
    {
     "name": "stdout",
     "output_type": "stream",
     "text": [
      "0\n",
      "Acc: [1.   0.99 0.97 0.95 0.61 0.56 0.62 0.56 0.56 0.58 0.59]\n",
      "Average Validation Performance = 0.73\n",
      "Best Alpha: 0.1\n",
      "Maximum validation performance: 1.0\n"
     ]
    }
   ],
   "source": [
    "#Joining normalized features and original data label before random splitting\n",
    "NormData = trainNorm.join(train_label)\n",
    "#Predictors and Labels\n",
    "predictors = ['f1', 'f2', 'f3', 'f4', 'f5', 'f6', 'f7', 'f8', 'f9', 'f10', 'f11', 'f12','f13', 'f14', 'f15', 'f16', 'f17', \n",
    "              'f18', 'f19', 'f20', 'f21', 'f22', 'f23', 'f24','f25', 'f26', 'f27', 'f28', 'f29', 'f30']\n",
    "label = ['Diagnosis']\n",
    "#Accruacry method to be used is Accuracy score\n",
    "fID = 219021675%3\n",
    "print(fID)\n",
    "\n",
    "#Defining iterative Logistic regression model\n",
    "def runLRmodel(trials, data, predictors, label, penalty_type, penalty_score):\n",
    "    model_acc     = 0\n",
    "    model_weights = np.zeros([1,31])\n",
    "   \n",
    "    for i in range(0,trials):\n",
    "        train,val = train_test_split(data, test_size=0.3)\n",
    "        lr = LogisticRegression(C=1/penalty_score, penalty=penalty_type)\n",
    "        lr.fit(train[predictors], train[label].values.ravel())\n",
    "        y_predict = lr.predict(val[predictors])\n",
    "        model_acc += accuracy_score(y_predict, val[label])\n",
    "        model_weights = np.append(lr.intercept_, lr.coef_)\n",
    "    \n",
    "    model_acc /= trials\n",
    "    model_weights /= trials\n",
    "    return np.round(model_acc, decimals=2), np.round(model_weights,decimals=2)\n",
    "\n",
    "#Alpha values for l1\n",
    "alpha_vals = [0.1,1,3,10,33,100,333,1000, 3333, 10000, 33333]\n",
    "\n",
    "#Empty array for accuracy for each L1 alpha\n",
    "l1_acc = np.zeros(len(alpha_vals))\n",
    "index = 0\n",
    "#Running iterative model\n",
    "for l in alpha_vals:\n",
    "   l1_acc[index], w = runLRmodel(10,NormData,predictors, label, 'l1', np.float(l))\n",
    "   index += 1\n",
    "\n",
    "avg_performance = sum(l1_acc)/len(l1_acc)\n",
    "\n",
    "print(\"Acc: {}\".format(l1_acc))\n",
    "print(\"Average Validation Performance =\", np.round(avg_performance,decimals=2))\n",
    "# penalty at which validation accuracy is maximum\n",
    "max_index_l1  = np.argmax(l1_acc)\n",
    "max_acc_l1 = max(l1_acc)\n",
    "best_alpha = alpha_vals[max_index_l1]\n",
    "print(\"Best Alpha: {}\".format(best_alpha))\n",
    "print(\"Maximum validation performance: {}\".format(max_acc_l1))"
   ]
  },
  {
   "cell_type": "markdown",
   "metadata": {},
   "source": [
    "B- For L2 model"
   ]
  },
  {
   "cell_type": "code",
   "execution_count": 18,
   "metadata": {},
   "outputs": [
    {
     "name": "stdout",
     "output_type": "stream",
     "text": [
      "Acc: [0.99 0.99 0.99 1.   0.99 1.   0.99 0.99 0.97 0.95]\n",
      "Average Validation Performance = 0.99\n",
      "Best Lambda: 0.03\n",
      "Maximum validation performance: 1.0\n"
     ]
    }
   ],
   "source": [
    "#Lambda values for l2\n",
    "lambda_vals = [0.001, 0.003, 0.01, 0.03, 0.1,0.3,1,3,10,33]\n",
    "\n",
    "#Empty array for accuracy for each L2 lambda\n",
    "l2_acc = np.zeros(len(lambda_vals))\n",
    "index = 0\n",
    "#Running iterative model\n",
    "for l in lambda_vals:\n",
    "   l2_acc[index], w = runLRmodel(10,NormData,predictors, label, 'l2', np.float(l))\n",
    "   index += 1\n",
    "\n",
    "avg_performance = sum(l2_acc)/len(l2_acc)\n",
    "\n",
    "print(\"Acc: {}\".format(l2_acc))\n",
    "print(\"Average Validation Performance =\", np.round(avg_performance,decimals=2))\n",
    "# penalty at which validation accuracy is maximum\n",
    "max_index_l2  = np.argmax(l2_acc)\n",
    "max_acc_l2 = max(l2_acc)\n",
    "best_lambda = lambda_vals[max_index_l2]\n",
    "print(\"Best Lambda: {}\".format(best_lambda))\n",
    "print(\"Maximum validation performance: {}\".format(max_acc_l2))"
   ]
  },
  {
   "cell_type": "code",
   "execution_count": 19,
   "metadata": {},
   "outputs": [
    {
     "data": {
      "image/png": "[encoded data removed]",
      "text/plain": [
       "<Figure size 432x288 with 1 Axes>"
      ]
     },
     "metadata": {
      "needs_background": "light"
     },
     "output_type": "display_data"
    },
    {
     "name": "stdout",
     "output_type": "stream",
     "text": [
      "For L1, as penalty factor increases, accuracy reduces, L2 remains consistent as factor increases.\n"
     ]
    }
   ],
   "source": [
    "#plot the accuracy curve\n",
    "plt.plot(range(0,len(lambda_vals)), l2_acc, color='b', label='L2')\n",
    "plt.plot(range(0,len(alpha_vals)), l1_acc, color='r', label='L1')\n",
    "#replace the x-axis labels with penalty values\n",
    "plt.xticks(range(0,len(lambda_vals)), lambda_vals, rotation='vertical')\n",
    "\n",
    "#Highlight the best values of alpha and lambda\n",
    "plt.plot((max_index_l2, max_index_l2), (0, l2_acc[max_index_l2]), ls='dotted', color='b')\n",
    "plt.plot((max_index_l1, max_index_l1), (0, l1_acc[max_index_l1]), ls='dotted', color='r')\n",
    "\n",
    "#Set the y-axis from 0 to 1.0\n",
    "axes = plt.gca()\n",
    "axes.set_ylim([0, 1.0])\n",
    "\n",
    "plt.legend(loc=\"lower left\")\n",
    "plt.show()\n",
    "\n",
    "print(\"For L1, as penalty factor increases, accuracy reduces, L2 remains consistent as factor increases.\")"
   ]
  },
  {
   "cell_type": "markdown",
   "metadata": {},
   "source": [
    "C- Using best alpha and lambda parameter to re-train final L1 and L2 regularized model"
   ]
  },
  {
   "cell_type": "code",
   "execution_count": 20,
   "metadata": {},
   "outputs": [
    {
     "name": "stdout",
     "output_type": "stream",
     "text": [
      "Model Accuracy is: 0.9\n",
      "\n",
      "Precision score is:0.8333333333333334\n",
      "\n",
      "Confusion Matrix is:[[13  1]\n",
      " [ 1  5]]\n",
      "\n",
      "Top 5 features in descending order of feature weights: \n",
      "            0\n",
      "22  7.089687\n",
      "21  3.905911\n",
      "24  2.438248\n",
      "20  2.026973\n",
      "3   1.024384\n"
     ]
    }
   ],
   "source": [
    "alpha_val1 = best_alpha\n",
    "#Initialize the Logitic regression model with l1 penalty\n",
    "L1_model1 = LogisticRegression(C=1/alpha_val1, penalty='l1')\n",
    "\n",
    "#Fitting the models\n",
    "L1_model1.fit(trainNorm, train_label)\n",
    "L1_Y_Predict1 = L1_model1.predict(testNorm)\n",
    "\n",
    "#Accuracy measures\n",
    "L1_model_acc1 = accuracy_score(L1_Y_Predict1, test_label)\n",
    "L1_precision1= precision_score(L1_Y_Predict1, test_label)\n",
    "L1_con_mat1 = confusion_matrix(L1_Y_Predict1, test_label)\n",
    "coefficients = L1_model1.coef_\n",
    "coefficients = pd.DataFrame(coefficients).T\n",
    "coefficients = coefficients.nlargest(5, 0)\n",
    "\n",
    "print(\"Model Accuracy is: {}\".format(L1_model_acc1))\n",
    "print(\"\\nPrecision score is:{}\".format(L1_precision1))\n",
    "print(\"\\nConfusion Matrix is:{}\".format(L1_con_mat1))\n",
    "print(\"\\nTop 5 features in descending order of feature weights: \\n\",coefficients)"
   ]
  },
  {
   "cell_type": "code",
   "execution_count": 21,
   "metadata": {},
   "outputs": [
    {
     "name": "stdout",
     "output_type": "stream",
     "text": [
      "Model Accuracy is: 0.9\n",
      "\n",
      "Precision score is:0.8333333333333334\n",
      "\n",
      "Confusion Matrix is:[[13  1]\n",
      " [ 1  5]]\n",
      "\n",
      "Top 5 features in descending order of feature weights: \n",
      "            0\n",
      "21  2.526693\n",
      "24  1.700917\n",
      "1   1.548341\n",
      "22  1.496175\n",
      "20  1.469515\n"
     ]
    }
   ],
   "source": [
    "lambda_val1 = best_lambda\n",
    "#Initialize the Logitic regression model with l2 penalty\n",
    "L2_model1 = LogisticRegression(C=1/lambda_val1, penalty ='l2')\n",
    "\n",
    "#Fitting the models\n",
    "L2_model1.fit(trainNorm, train_label)\n",
    "L2_Y_Predict1 = L2_model1.predict(testNorm)\n",
    "\n",
    "#Accuracy measures\n",
    "L2_model_acc1 = accuracy_score(L2_Y_Predict1, test_label)\n",
    "L2_precision1 = precision_score(L2_Y_Predict1, test_label)\n",
    "L2_con_mat1 = confusion_matrix(L2_Y_Predict1, test_label)\n",
    "coefficients = L2_model1.coef_\n",
    "coefficients = pd.DataFrame(coefficients).T\n",
    "coefficients = coefficients.nlargest(5, 0)\n",
    "\n",
    "print(\"Model Accuracy is: {}\".format(L2_model_acc1))\n",
    "print(\"\\nPrecision score is:{}\".format(L2_precision1))\n",
    "print(\"\\nConfusion Matrix is:{}\".format(L2_con_mat1))\n",
    "print(\"\\nTop 5 features in descending order of feature weights: \\n\",coefficients)"
   ]
  },
  {
   "cell_type": "markdown",
   "metadata": {},
   "source": [
    "# Part-2 (Multiclass Classification):"
   ]
  },
  {
   "cell_type": "markdown",
   "metadata": {},
   "source": [
    "2.1 Read and understand the data, create a default One-vs-Rest Classifier"
   ]
  },
  {
   "cell_type": "code",
   "execution_count": 22,
   "metadata": {},
   "outputs": [
    {
     "name": "stdout",
     "output_type": "stream",
     "text": [
      "Number of data points are 2520\n",
      "Total number of features excluding label column are 784\n",
      "Unique labels in data are: [0, 1, 2, 3, 4, 5, 6, 7, 8, 9]\n"
     ]
    }
   ],
   "source": [
    "#2.1.1\n",
    "#Importing data\n",
    "mnistdata = pd.read_csv('reduced_mnist.csv')\n",
    "\n",
    "#Number of data points\n",
    "rows,cols = mnistdata.shape\n",
    "print(\"Number of data points are {}\".format(rows))\n",
    "\n",
    "#Total number of features\n",
    "print(\"Total number of features excluding label column are {}\".format(cols-1))\n",
    "\n",
    "#Unique labels in data\n",
    "unique_labels = sorted(mnistdata['label'].unique())\n",
    "print(\"Unique labels in data are: {}\".format(unique_labels))\n"
   ]
  },
  {
   "cell_type": "code",
   "execution_count": 23,
   "metadata": {},
   "outputs": [
    {
     "name": "stdout",
     "output_type": "stream",
     "text": [
      "Training Data has 1764 rows and 785 cols\n",
      "Testing Data has 756 rows and 785 cols\n"
     ]
    }
   ],
   "source": [
    "#2.1.2 Fitting a One-vs-Rest Classifier\n",
    "#Splitting data into 70% training data and 30% test data and fitting One-vs-Rest classifier logistic regression\n",
    "mnisttrain,mnisttest = train_test_split(mnistdata, test_size = 0.3)\n",
    "print('Training Data has {} rows and {} cols'.format(mnisttrain.shape[0], mnisttrain.shape[1]))\n",
    "print('Testing Data has {} rows and {} cols'.format(mnisttest.shape[0], mnisttest.shape[1]))\n",
    "\n",
    "#Dividin predictors and labels in training and test data\n",
    "train_features = list(mnisttrain.drop('label', axis=1))\n",
    "train_label = list(mnisttrain[['label']])\n",
    "test_features = list(mnisttest.drop('label', axis=1))\n",
    "test_label = list(mnisttest[['label']])"
   ]
  },
  {
   "cell_type": "code",
   "execution_count": 24,
   "metadata": {},
   "outputs": [],
   "source": [
    "#Intializing the model\n",
    "alpha = 1\n",
    "model2 = LogisticRegression(C = 1/alpha, penalty = 'l1', multi_class='ovr')\n",
    "\n",
    "#Fitting the model\n",
    "model2.fit(mnisttrain[train_features],mnisttrain[train_label].values.ravel())\n",
    "\n",
    "#Predicting the model\n",
    "predict2 = model2.predict(mnisttest[test_features])"
   ]
  },
  {
   "cell_type": "code",
   "execution_count": 25,
   "metadata": {},
   "outputs": [
    {
     "name": "stdout",
     "output_type": "stream",
     "text": [
      "Accuracy of the model is 0.836\n",
      "Precision of the model is 0.834\n",
      "Recall of the model is 0.834\n",
      "Classification Report:\n",
      "              precision    recall  f1-score   support\n",
      "\n",
      "           0       0.93      0.81      0.87        81\n",
      "           1       0.93      0.92      0.92        83\n",
      "           2       0.83      0.85      0.84        85\n",
      "           3       0.73      0.79      0.76        73\n",
      "           4       0.83      0.86      0.84        69\n",
      "           5       0.77      0.78      0.77        72\n",
      "           6       0.94      0.91      0.93        82\n",
      "           7       0.92      0.94      0.93        69\n",
      "           8       0.70      0.70      0.70        67\n",
      "           9       0.77      0.77      0.77        75\n",
      "\n",
      "   micro avg       0.84      0.84      0.84       756\n",
      "   macro avg       0.83      0.83      0.83       756\n",
      "weighted avg       0.84      0.84      0.84       756\n",
      "\n"
     ]
    }
   ],
   "source": [
    "#Accuracy measures\n",
    "model2_acc = np.round(accuracy_score(predict2, mnisttest[test_label]),decimals = 3)\n",
    "model2_precision = np.round(precision_score(predict2, mnisttest[test_label], average = 'macro'),decimals = 3)\n",
    "model2_recall = np.round(recall_score(predict2, mnisttest[test_label], average = 'macro'),decimals = 3)\n",
    "model2_cl_report = classification_report(predict2, mnisttest[test_label])\n",
    "\n",
    "print('Accuracy of the model is {}'.format(model2_acc))\n",
    "print('Precision of the model is {}'.format(model2_precision))\n",
    "print('Recall of the model is {}'.format(model2_recall))\n",
    "print(\"Classification Report:\")\n",
    "print(model2_cl_report)\n"
   ]
  },
  {
   "cell_type": "code",
   "execution_count": 26,
   "metadata": {},
   "outputs": [
    {
     "name": "stdout",
     "output_type": "stream",
     "text": [
      "0\n"
     ]
    }
   ],
   "source": [
    "#2.2 Choosing the best hyper-parameter\n",
    "#Since fID is zero, I have used accuracy score is performance parameter\n",
    "fID = 219021675%3\n",
    "print(fID)\n",
    "\n",
    "#Defining predictors and labels\n",
    "predictors = mnisttrain.columns[1:785]\n",
    "label = mnisttrain.columns[0]\n",
    "\n",
    "#Defining iterative model\n",
    "def LRmodel(trials, data, predictors, label, penalty_type, penalty_score):\n",
    "    acc_val = 0\n",
    "    acc_train = 0\n",
    "        \n",
    "    for i in range(0,trials):\n",
    "        train,val = train_test_split(data, test_size=0.3)\n",
    "        lr = LogisticRegression(C=1/penalty_score, penalty=penalty_type,multi_class='ovr')\n",
    "        lr.fit(train[predictors], train[label].values.ravel())\n",
    "        \n",
    "        #Validation accuracy\n",
    "        y_predict_val = lr.predict(val[predictors])\n",
    "        acc_val += accuracy_score(y_predict_val, val[label])\n",
    "        \n",
    "        #Training accuracy\n",
    "        y_predict_train = lr.predict(train[predictors])\n",
    "        acc_train += accuracy_score(y_predict_train, train[label])\n",
    "    \n",
    "    acc_val /= trials\n",
    "    acc_train /= trials\n",
    "    return np.round(acc_val, decimals=2), np.round(acc_train,decimals=2)\n"
   ]
  },
  {
   "cell_type": "code",
   "execution_count": 27,
   "metadata": {},
   "outputs": [
    {
     "data": {
      "text/html": [
       "<div>\n",
       "<style scoped>\n",
       "    .dataframe tbody tr th:only-of-type {\n",
       "        vertical-align: middle;\n",
       "    }\n",
       "\n",
       "    .dataframe tbody tr th {\n",
       "        vertical-align: top;\n",
       "    }\n",
       "\n",
       "    .dataframe thead th {\n",
       "        text-align: right;\n",
       "    }\n",
       "</style>\n",
       "<table border=\"1\" class=\"dataframe\">\n",
       "  <thead>\n",
       "    <tr style=\"text-align: right;\">\n",
       "      <th></th>\n",
       "      <th>Hyperparameter</th>\n",
       "      <th>Validation Accuracy</th>\n",
       "      <th>Training Accuracy</th>\n",
       "    </tr>\n",
       "  </thead>\n",
       "  <tbody>\n",
       "    <tr>\n",
       "      <th>0</th>\n",
       "      <td>0.1</td>\n",
       "      <td>1.00</td>\n",
       "      <td>0.83</td>\n",
       "    </tr>\n",
       "    <tr>\n",
       "      <th>1</th>\n",
       "      <td>1.0</td>\n",
       "      <td>1.00</td>\n",
       "      <td>0.84</td>\n",
       "    </tr>\n",
       "    <tr>\n",
       "      <th>2</th>\n",
       "      <td>3.0</td>\n",
       "      <td>1.00</td>\n",
       "      <td>0.83</td>\n",
       "    </tr>\n",
       "    <tr>\n",
       "      <th>3</th>\n",
       "      <td>10.0</td>\n",
       "      <td>1.00</td>\n",
       "      <td>0.83</td>\n",
       "    </tr>\n",
       "    <tr>\n",
       "      <th>4</th>\n",
       "      <td>33.0</td>\n",
       "      <td>1.00</td>\n",
       "      <td>0.84</td>\n",
       "    </tr>\n",
       "    <tr>\n",
       "      <th>5</th>\n",
       "      <td>100.0</td>\n",
       "      <td>1.00</td>\n",
       "      <td>0.84</td>\n",
       "    </tr>\n",
       "    <tr>\n",
       "      <th>6</th>\n",
       "      <td>333.0</td>\n",
       "      <td>0.96</td>\n",
       "      <td>0.86</td>\n",
       "    </tr>\n",
       "    <tr>\n",
       "      <th>7</th>\n",
       "      <td>1000.0</td>\n",
       "      <td>0.92</td>\n",
       "      <td>0.86</td>\n",
       "    </tr>\n",
       "    <tr>\n",
       "      <th>8</th>\n",
       "      <td>3333.0</td>\n",
       "      <td>0.85</td>\n",
       "      <td>0.80</td>\n",
       "    </tr>\n",
       "    <tr>\n",
       "      <th>9</th>\n",
       "      <td>10000.0</td>\n",
       "      <td>0.75</td>\n",
       "      <td>0.70</td>\n",
       "    </tr>\n",
       "    <tr>\n",
       "      <th>10</th>\n",
       "      <td>33333.0</td>\n",
       "      <td>0.58</td>\n",
       "      <td>0.56</td>\n",
       "    </tr>\n",
       "  </tbody>\n",
       "</table>\n",
       "</div>"
      ],
      "text/plain": [
       "    Hyperparameter  Validation Accuracy  Training Accuracy\n",
       "0              0.1                 1.00               0.83\n",
       "1              1.0                 1.00               0.84\n",
       "2              3.0                 1.00               0.83\n",
       "3             10.0                 1.00               0.83\n",
       "4             33.0                 1.00               0.84\n",
       "5            100.0                 1.00               0.84\n",
       "6            333.0                 0.96               0.86\n",
       "7           1000.0                 0.92               0.86\n",
       "8           3333.0                 0.85               0.80\n",
       "9          10000.0                 0.75               0.70\n",
       "10         33333.0                 0.58               0.56"
      ]
     },
     "execution_count": 27,
     "metadata": {},
     "output_type": "execute_result"
    }
   ],
   "source": [
    "#Defining alpha\n",
    "alpha1 = [0.1, 1, 3, 10, 33, 100, 333, 1000, 3333, 10000, 33333]\n",
    "\n",
    "#Running iterative model\n",
    "val_accuracy = []\n",
    "train_accuracy = []\n",
    "\n",
    "for l in alpha1:\n",
    "    acc_train,acc_val = LRmodel(10,mnisttrain,predictors,label,'l1',np.float(l))\n",
    "    val_accuracy.append(acc_val)\n",
    "    train_accuracy.append(acc_train)\n",
    "\n",
    "acc = pd.DataFrame(columns = [\"Hyperparameter\", \"Validation Accuracy\", \"Training Accuracy\"])\n",
    "acc['Hyperparameter'] = alpha1\n",
    "acc['Validation Accuracy'] = val_accuracy\n",
    "acc['Training Accuracy'] = train_accuracy\n",
    "acc\n"
   ]
  },
  {
   "cell_type": "code",
   "execution_count": 28,
   "metadata": {},
   "outputs": [
    {
     "name": "stdout",
     "output_type": "stream",
     "text": [
      "Best alpha for Validation: 0.1\n",
      "Best alpha for Training: 333\n"
     ]
    },
    {
     "data": {
      "image/png": "[encoded data removed]",
      "text/plain": [
       "<Figure size 1080x432 with 1 Axes>"
      ]
     },
     "metadata": {
      "needs_background": "light"
     },
     "output_type": "display_data"
    }
   ],
   "source": [
    "max_index_val = np.argmax(val_accuracy)\n",
    "best_alpha_val= alpha1[max_index_val]\n",
    "print('Best alpha for Validation: {}'.format(best_alpha_val))\n",
    "\n",
    "max_index_train = np.argmax(train_accuracy)\n",
    "best_alpha_train= alpha1[max_index_train]\n",
    "print('Best alpha for Training: {}'.format(best_alpha_train))\n",
    "\n",
    "# plot graph\n",
    "plt.rcParams[\"figure.figsize\"] = (15,6)\n",
    "fig = plt.figure()\n",
    "ax = plt.axes()\n",
    "\n",
    "plt.title(\"Accuracy vs Hyperparameter\")\n",
    "plt.xlabel(\"Hyperparameter Value\")\n",
    "plt.ylabel(\"Accuracy (%)\");\n",
    "\n",
    "plt.plot(acc['Hyperparameter'], acc['Training Accuracy'], color='red', label='Training Accuracy');\n",
    "plt.plot(acc['Hyperparameter'], acc['Validation Accuracy'], color='blue', label='Validation Accuracy');\n",
    "plt.legend()\n",
    "plt.show()"
   ]
  },
  {
   "cell_type": "markdown",
   "metadata": {},
   "source": [
    "Overfitting occurs when models learns more about the training dataset,thus giving high accuracy than validation dataset. But, in this case, accuracy on training dataset is lower than validation dataset indicating underfit. i.e. there is still scope for model to learn. This may be due to random splitting or validation dataset size should be increased.In this case, best hyperparameter is 33 where accuracy for validation dataset is 1 and 0.85 for training dataset. Beyond hyperparameter 1000.0 model becomes underfit as training and validation dataset accuracy decreases significantly. However, 100% accuracy on validation set seems to be unrealistic and I crosschecked my multiple times but couldn't figure out any mistake. Appreciate if I could get feedback specifically on this part."
   ]
  },
  {
   "cell_type": "code",
   "execution_count": 29,
   "metadata": {},
   "outputs": [],
   "source": [
    "#2.2.2 Bulding final model\n",
    "best_alpha = 33\n",
    "#Initializing the model\n",
    "model3 = LogisticRegression(C=1/best_alpha, penalty='l1', multi_class='ovr')\n",
    "#Fitting the model\n",
    "model3.fit(mnisttrain[predictors].values,mnisttrain[label].values.ravel())\n",
    "#Predicting the model\n",
    "model3_predict = model3.predict(mnisttest[predictors])"
   ]
  },
  {
   "cell_type": "code",
   "execution_count": 30,
   "metadata": {},
   "outputs": [
    {
     "name": "stdout",
     "output_type": "stream",
     "text": [
      "Accuracy of the model is: 0.841\n",
      "Precison for each class in the model is: [0.93  0.939 0.828 0.759 0.859 0.767 0.925 0.901 0.731 0.76 ]\n",
      "Recall for each class in the model is: [0.892 0.895 0.9   0.779 0.859 0.778 0.925 0.889 0.731 0.74 ]\n",
      "Confusion matrix:\n",
      "[[66  0  1  1  0  2  0  0  2  2]\n",
      " [ 1 77  0  1  1  1  0  0  5  0]\n",
      " [ 0  1 72  2  0  1  1  0  2  1]\n",
      " [ 0  0  3 60  2  3  0  1  3  5]\n",
      " [ 0  0  0  0 61  0  3  0  1  6]\n",
      " [ 1  1  0 11  0 56  1  0  1  1]\n",
      " [ 1  0  4  0  0  0 74  0  1  0]\n",
      " [ 1  0  2  0  2  0  0 64  1  2]\n",
      " [ 1  3  2  3  0  6  1  1 49  1]\n",
      " [ 0  0  3  1  5  4  0  5  2 57]]\n"
     ]
    },
    {
     "data": {
      "text/html": [
       "<div>\n",
       "<style scoped>\n",
       "    .dataframe tbody tr th:only-of-type {\n",
       "        vertical-align: middle;\n",
       "    }\n",
       "\n",
       "    .dataframe tbody tr th {\n",
       "        vertical-align: top;\n",
       "    }\n",
       "\n",
       "    .dataframe thead th {\n",
       "        text-align: right;\n",
       "    }\n",
       "</style>\n",
       "<table border=\"1\" class=\"dataframe\">\n",
       "  <thead>\n",
       "    <tr style=\"text-align: right;\">\n",
       "      <th></th>\n",
       "      <th>Label</th>\n",
       "      <th>Accuracy</th>\n",
       "      <th>Precision</th>\n",
       "      <th>Recall</th>\n",
       "    </tr>\n",
       "  </thead>\n",
       "  <tbody>\n",
       "    <tr>\n",
       "      <th>0</th>\n",
       "      <td>0</td>\n",
       "      <td>0.892</td>\n",
       "      <td>0.930</td>\n",
       "      <td>0.892</td>\n",
       "    </tr>\n",
       "    <tr>\n",
       "      <th>1</th>\n",
       "      <td>1</td>\n",
       "      <td>0.895</td>\n",
       "      <td>0.939</td>\n",
       "      <td>0.895</td>\n",
       "    </tr>\n",
       "    <tr>\n",
       "      <th>2</th>\n",
       "      <td>2</td>\n",
       "      <td>0.900</td>\n",
       "      <td>0.828</td>\n",
       "      <td>0.900</td>\n",
       "    </tr>\n",
       "    <tr>\n",
       "      <th>3</th>\n",
       "      <td>3</td>\n",
       "      <td>0.779</td>\n",
       "      <td>0.759</td>\n",
       "      <td>0.779</td>\n",
       "    </tr>\n",
       "    <tr>\n",
       "      <th>4</th>\n",
       "      <td>4</td>\n",
       "      <td>0.859</td>\n",
       "      <td>0.859</td>\n",
       "      <td>0.859</td>\n",
       "    </tr>\n",
       "    <tr>\n",
       "      <th>5</th>\n",
       "      <td>5</td>\n",
       "      <td>0.778</td>\n",
       "      <td>0.767</td>\n",
       "      <td>0.778</td>\n",
       "    </tr>\n",
       "    <tr>\n",
       "      <th>6</th>\n",
       "      <td>6</td>\n",
       "      <td>0.925</td>\n",
       "      <td>0.925</td>\n",
       "      <td>0.925</td>\n",
       "    </tr>\n",
       "    <tr>\n",
       "      <th>7</th>\n",
       "      <td>7</td>\n",
       "      <td>0.889</td>\n",
       "      <td>0.901</td>\n",
       "      <td>0.889</td>\n",
       "    </tr>\n",
       "    <tr>\n",
       "      <th>8</th>\n",
       "      <td>8</td>\n",
       "      <td>0.731</td>\n",
       "      <td>0.731</td>\n",
       "      <td>0.731</td>\n",
       "    </tr>\n",
       "    <tr>\n",
       "      <th>9</th>\n",
       "      <td>9</td>\n",
       "      <td>0.740</td>\n",
       "      <td>0.760</td>\n",
       "      <td>0.740</td>\n",
       "    </tr>\n",
       "  </tbody>\n",
       "</table>\n",
       "</div>"
      ],
      "text/plain": [
       "   Label  Accuracy  Precision  Recall\n",
       "0      0     0.892      0.930   0.892\n",
       "1      1     0.895      0.939   0.895\n",
       "2      2     0.900      0.828   0.900\n",
       "3      3     0.779      0.759   0.779\n",
       "4      4     0.859      0.859   0.859\n",
       "5      5     0.778      0.767   0.778\n",
       "6      6     0.925      0.925   0.925\n",
       "7      7     0.889      0.901   0.889\n",
       "8      8     0.731      0.731   0.731\n",
       "9      9     0.740      0.760   0.740"
      ]
     },
     "execution_count": 30,
     "metadata": {},
     "output_type": "execute_result"
    }
   ],
   "source": [
    "#Accuracy measures\n",
    "model3_acc = np.round(accuracy_score(model3_predict,mnisttest[label]),decimals = 3)\n",
    "model3_pre = np.round(precision_score(model3_predict,mnisttest[label],average = None),decimals = 3)\n",
    "model3_rec = np.round(recall_score(model3_predict,mnisttest[label],average = None),decimals = 3)\n",
    "model3_con_mat = confusion_matrix(model3_predict,mnisttest[label])\n",
    "model3_cl_report = classification_report(model3_predict,mnisttest[label])\n",
    "\n",
    "print(\"Accuracy of the model is: {}\". format(model3_acc))\n",
    "print(\"Precison for each class in the model is: {}\". format(model3_pre))\n",
    "print(\"Recall for each class in the model is: {}\". format(model3_rec))\n",
    "print(\"Confusion matrix:\")\n",
    "print(model3_con_mat)\n",
    "\n",
    "acc_class = pd.DataFrame(columns = [\"Label\", \"Accuracy\", \"Precision\", \"Recall\"])\n",
    "acc_class['Label'] = [0,1,2,3,4,5,6,7,8,9]\n",
    "acc_class['Accuracy'] = np.round(model3_con_mat.diagonal()/model3_con_mat.sum(axis = 1),decimals = 3)\n",
    "acc_class['Precision'] = model3_pre\n",
    "acc_class['Recall'] = model3_rec\n",
    "acc_class"
   ]
  },
  {
   "cell_type": "markdown",
   "metadata": {},
   "source": [
    "2.2.3 Sign of underfitting or overfitting:\n",
    "One of the reason for underfitting or overfitting is imbalanced data for each class as random sampling might get more or less data points of a certain class of data. From below table we can see that training data is imbalanced resulting low accuracy than precision. Thus, we can say that there is sign of underfitting."
   ]
  },
  {
   "cell_type": "code",
   "execution_count": 31,
   "metadata": {},
   "outputs": [
    {
     "name": "stdout",
     "output_type": "stream",
     "text": [
      "Label Count: \n",
      "1    204\n",
      "0    186\n",
      "7    185\n",
      "2    182\n",
      "3    179\n",
      "8    172\n",
      "4    172\n",
      "9    163\n",
      "6    163\n",
      "5    158\n",
      "Name: label, dtype: int64\n"
     ]
    }
   ],
   "source": [
    "print('Label Count: ')\n",
    "print(mnisttrain['label'].value_counts())"
   ]
  },
  {
   "cell_type": "code",
   "execution_count": null,
   "metadata": {},
   "outputs": [],
   "source": []
  }
 ],
 "metadata": {
  "kernelspec": {
   "display_name": "Python 3",
   "language": "python",
   "name": "python3"
  },
  "language_info": {
   "codemirror_mode": {
    "name": "ipython",
    "version": 3
   },
   "file_extension": ".py",
   "mimetype": "text/x-python",
   "name": "python",
   "nbconvert_exporter": "python",
   "pygments_lexer": "ipython3",
   "version": "3.7.3"
  }
 },
 "nbformat": 4,
 "nbformat_minor": 2
}
